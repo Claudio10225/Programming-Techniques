{
 "cells": [
  {
   "cell_type": "markdown",
   "metadata": {},
   "source": [
    "# Lab 1\n",
    "(Prof. Carlos J. Costa)"
   ]
  },
  {
   "cell_type": "markdown",
   "metadata": {},
   "source": [
    "**1)**  Verify if  a value is integer"
   ]
  },
  {
   "cell_type": "code",
   "execution_count": 1,
   "metadata": {},
   "outputs": [
    {
     "data": {
      "text/plain": [
       "int"
      ]
     },
     "execution_count": 1,
     "metadata": {},
     "output_type": "execute_result"
    }
   ],
   "source": [
    "#Code here\n",
    "value = 5\n",
    "type(value)"
   ]
  },
  {
   "cell_type": "code",
   "execution_count": 2,
   "metadata": {},
   "outputs": [
    {
     "data": {
      "text/plain": [
       "True"
      ]
     },
     "execution_count": 2,
     "metadata": {},
     "output_type": "execute_result"
    }
   ],
   "source": [
    "n = 5\n",
    "int(n) == n"
   ]
  },
  {
   "cell_type": "markdown",
   "metadata": {},
   "source": [
    "**2)** Verify if a value is even"
   ]
  },
  {
   "cell_type": "code",
   "execution_count": 3,
   "metadata": {},
   "outputs": [
    {
     "name": "stdout",
     "output_type": "stream",
     "text": [
      "Type a number: 3\n",
      "3 is odd!\n"
     ]
    }
   ],
   "source": [
    "#Code here\n",
    "Num1 = int(input(\"Type a number: \"))\n",
    "if Num1 % 2 == 0 :\n",
    "    print(str(Num1) + \" is even!\")\n",
    "else :\n",
    "    print(str(Num1) + \" is odd!\")"
   ]
  },
  {
   "cell_type": "markdown",
   "metadata": {},
   "source": [
    "**3)** Insert two numbers. Is the first is bigger than the second?"
   ]
  },
  {
   "cell_type": "code",
   "execution_count": 4,
   "metadata": {},
   "outputs": [
    {
     "name": "stdout",
     "output_type": "stream",
     "text": [
      "Type a number: 8\n",
      "Type another number: 2\n",
      "8 is bigger than 2\n"
     ]
    }
   ],
   "source": [
    "#Code here\n",
    "Num1 = int(input(\"Type a number: \"))\n",
    "Num2 = int(input(\"Type another number: \"))\n",
    "if Num1 > Num2 :\n",
    "    print(str(Num1) + \" is bigger than \" + str(Num2))\n",
    "else :\n",
    "    print(str(Num1) + \" is lower than \" + str(Num2))"
   ]
  },
  {
   "cell_type": "markdown",
   "metadata": {},
   "source": [
    "**4)** Verify if one value is multiple of another"
   ]
  },
  {
   "cell_type": "code",
   "execution_count": 5,
   "metadata": {},
   "outputs": [
    {
     "name": "stdout",
     "output_type": "stream",
     "text": [
      "Type a number: 4\n",
      "Type another number: 16\n",
      "16 is a multiple of 4\n"
     ]
    }
   ],
   "source": [
    "#Code here\n",
    "Num1 = int(input(\"Type a number: \"))\n",
    "Num2 = int(input(\"Type another number: \"))\n",
    "if Num1 % Num2 == 0 or Num2 % Num1 == 0 :\n",
    "    if Num1 >= Num2 :\n",
    "        print(str(Num1) + \" is a multiple of \" + str(Num2))\n",
    "    else : \n",
    "        print(str(Num2) + \" is a multiple of \" + str(Num1))\n",
    "else :\n",
    "    print(str(Num1) + \" is not a multiple of \" + str(Num2))"
   ]
  },
  {
   "cell_type": "markdown",
   "metadata": {},
   "source": [
    "**5)** Calculate the interest earn by an investor that \n",
    "invested a capital of 200 during 3 years with an interest rate of 3%. \n",
    "(I= P\\*R\\*T)\n"
   ]
  },
  {
   "cell_type": "code",
   "execution_count": 6,
   "metadata": {},
   "outputs": [
    {
     "name": "stdout",
     "output_type": "stream",
     "text": [
      "18.0\n"
     ]
    }
   ],
   "source": [
    "#Code here\n",
    "capital = 200\n",
    "T = 3\n",
    "rate = 0.03\n",
    "\n",
    "interest_earned = capital * T * rate\n",
    "print(interest_earned)"
   ]
  },
  {
   "cell_type": "markdown",
   "metadata": {},
   "source": [
    "**6)** Capital that an investor obtained after \n",
    "investing a capital of 200 during 3 years with an interest rate of 3%. (Compound interest)"
   ]
  },
  {
   "cell_type": "code",
   "execution_count": 7,
   "metadata": {},
   "outputs": [
    {
     "name": "stdout",
     "output_type": "stream",
     "text": [
      "218.5454\n"
     ]
    }
   ],
   "source": [
    "#Code here\n",
    "capital = 200\n",
    "T = 3\n",
    "rate = 0.03\n",
    "\n",
    "interest_earned = capital * (1 + rate) ** T\n",
    "print(interest_earned)"
   ]
  },
  {
   "cell_type": "markdown",
   "metadata": {},
   "source": [
    "**7)** Calculate your BMI (Body Mass Index)  \n",
    "   \n",
    "$BMI = mass (kg)/height^2 (m)$"
   ]
  },
  {
   "cell_type": "code",
   "execution_count": 8,
   "metadata": {},
   "outputs": [
    {
     "name": "stdout",
     "output_type": "stream",
     "text": [
      "Type your weight: 80\n",
      "Type your height: 1.85\n",
      "Your BMI is 23.37472607742878\n"
     ]
    }
   ],
   "source": [
    "#Code here\n",
    "mass = float(input(\"Type your weight: \"))\n",
    "height = float(input(\"Type your height: \"))\n",
    "\n",
    "print(\"Your BMI is \" + str(mass / (height**2)) )"
   ]
  },
  {
   "cell_type": "markdown",
   "metadata": {},
   "source": [
    "**8)** Calcule the Golden ration:   \n",
    "    \n",
    "$gr=(1+\\sqrt{5})/2$\n",
    "\n",
    "1. Solve the problem without using libraries\n",
    "2. Use module math (import math) and function sqr (math.sqrt)"
   ]
  },
  {
   "cell_type": "code",
   "execution_count": 9,
   "metadata": {},
   "outputs": [
    {
     "name": "stdout",
     "output_type": "stream",
     "text": [
      "1.618033988749895\n"
     ]
    }
   ],
   "source": [
    "#Code here\n",
    "import math\n",
    "gr = (1 + math.sqrt(5))/2\n",
    "print(gr)"
   ]
  },
  {
   "cell_type": "markdown",
   "metadata": {},
   "source": [
    "**9)** Calculete the NPV (Net present value) of an investment, considering an initial investment of 10000, the following Cashflows 2000,3000, 4000, 4000 and 5000 and a discount rate of 10%.\n",
    "\n",
    "$NPV = \\sum_{t=1}^{n}\\frac{FV_{t}}{(1 + k)^{t}} – I$\n",
    "\n",
    "Where:\n",
    "\n",
    "FV = Future cost of the cash inflows,\n",
    "I = Initial Investment\n",
    "k = Discount rate equal to the owner’s cost of capital\n"
   ]
  },
  {
   "cell_type": "code",
   "execution_count": 10,
   "metadata": {},
   "outputs": [
    {
     "name": "stdout",
     "output_type": "stream",
     "text": [
      "3139.440301519393\n"
     ]
    }
   ],
   "source": [
    "#Code here\n",
    "I = 10000\n",
    "k = 0.1\n",
    "CF = [2000, 3000, 4000, 4000, 5000]\n",
    "\n",
    "NPV = CF[0]/(1+k) + CF[1]/(1+k)**2 + CF[2]/(1+k)**3 + CF[3]/(1+k)**4 + CF[4]/(1+k)**5 - I\n",
    "print(NPV)"
   ]
  },
  {
   "cell_type": "markdown",
   "metadata": {},
   "source": [
    "**10)** Ask the user to insert name and age. Calculate the the birth. Print a result saying the 'this person was born in'\n",
    "1. Solve the problem without using modules and libraries\n",
    "2. Solve the problem using the date library from module datetime, as fallow:\n",
    "   \n",
    "```python\n",
    "from datetime import date   \n",
    "today = date.today()   \n",
    "today.year   \n",
    "```"
   ]
  },
  {
   "cell_type": "code",
   "execution_count": 11,
   "metadata": {},
   "outputs": [
    {
     "name": "stdout",
     "output_type": "stream",
     "text": [
      "Please, insert your name: Claudio\n",
      "Please, insert your age: 23\n",
      "Claudio was born in 1996\n"
     ]
    }
   ],
   "source": [
    "#Code here\n",
    "name = input(\"Please, insert your name: \")\n",
    "age = input(\"Please, insert your age: \")\n",
    "birth = 2019 - int(age)\n",
    "print(name + \" was born in \" + str(birth))"
   ]
  },
  {
   "cell_type": "markdown",
   "metadata": {},
   "source": [
    "**11)** Ask the user to insert forenames, surnames. create a new variable (name) with your complete name.\n",
    "   \n",
    "Create the follwoing variables:   \n",
    "   \n",
    "**nameBig**, where all the characters of the name are capitalized   \n",
    "**nameTitle**, where the only the first character of each name (word) is capitalized   \n",
    "**nameSmall**, where all the characters of the name are lower   \n",
    "**nameCapitalized**, where only the first charater of the first name is capitalized   "
   ]
  },
  {
   "cell_type": "code",
   "execution_count": 12,
   "metadata": {},
   "outputs": [
    {
     "name": "stdout",
     "output_type": "stream",
     "text": [
      "Insert your name: Claudio\n",
      "Insert your surname: Napoli\n",
      "Your nameBig is CLAUDIO NAPOLI\n",
      "Your nameTitle is Claudio Napoli\n",
      "Your nameSmall is claudio napoli\n",
      "Your nameCapitalized is Claudio Napoli\n"
     ]
    }
   ],
   "source": [
    "#Code here\n",
    "n = input(\"Insert your name: \")\n",
    "s = input(\"Insert your surname: \")\n",
    "nameBig = n.upper() + \" \" + s.upper()\n",
    "nameTitle = n.capitalize() + \" \" + s.capitalize()\n",
    "nameSmall = n.lower() + \" \" + s.lower()\n",
    "nameCapitalized = n.capitalize() + \" \" + s\n",
    "print(\"Your nameBig is \" + nameBig)\n",
    "print(\"Your nameTitle is \" + nameTitle)\n",
    "print(\"Your nameSmall is \" + nameSmall)\n",
    "print(\"Your nameCapitalized is \" + nameCapitalized)"
   ]
  },
  {
   "cell_type": "markdown",
   "metadata": {},
   "source": [
    "**12)** Supopose thata your name is stored in the variable name. Use the follwoing method to show where in which carater appears the firs \"da\". \n",
    "   \n",
    "```python\n",
    "str.find(sub,start,end)\n",
    "str - variable to be abalysed\n",
    "sub - expression to find in the variable str\n",
    "start and end are optional values corresponding to the beginning and end position to search.\n",
    "```\n",
    "   \n",
    "What happens if does not find?\n"
   ]
  },
  {
   "cell_type": "code",
   "execution_count": 13,
   "metadata": {},
   "outputs": [
    {
     "data": {
      "text/plain": [
       "7"
      ]
     },
     "execution_count": 13,
     "metadata": {},
     "output_type": "execute_result"
    }
   ],
   "source": [
    "#Code here\n",
    "name = \"claudiofabiosimone\"\n",
    "name.find(\"fa\",0,15)"
   ]
  }
 ],
 "metadata": {
  "kernelspec": {
   "display_name": "Python 3",
   "language": "python",
   "name": "python3"
  },
  "language_info": {
   "codemirror_mode": {
    "name": "ipython",
    "version": 3
   },
   "file_extension": ".py",
   "mimetype": "text/x-python",
   "name": "python",
   "nbconvert_exporter": "python",
   "pygments_lexer": "ipython3",
   "version": "3.7.4"
  }
 },
 "nbformat": 4,
 "nbformat_minor": 2
}
