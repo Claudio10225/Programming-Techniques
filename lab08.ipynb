{
 "cells": [
  {
   "cell_type": "markdown",
   "metadata": {},
   "source": [
    "# Lab 8 \n",
    "\n",
    "A simple chatbot\n",
    "\n",
    "**1.** Create a function that asks the user his name and says Hello, John Doe\n",
    "\n",
    "**2.** Create a function called chat that ask the user what is his problem and will answer \"yes of course\"\n",
    "\n",
    "**3.** Create a function called chat that ask the user what is his problem and will answer randomly among 6 possible answers\n",
    "\n",
    "**4.** Put all together and improve\n"
   ]
  },
  {
   "cell_type": "markdown",
   "metadata": {},
   "source": [
    "**1.** Create a function that ask the user his name and says Hello, John Doe"
   ]
  },
  {
   "cell_type": "code",
   "execution_count": 1,
   "metadata": {},
   "outputs": [],
   "source": [
    "# Create a function that ask the user his name and says Hello, John Doe\n"
   ]
  },
  {
   "cell_type": "code",
   "execution_count": 2,
   "metadata": {},
   "outputs": [
    {
     "name": "stdout",
     "output_type": "stream",
     "text": [
      "Hi ! What is your name? \n",
      "Hi ! What is your name? \n",
      "Hi ! What is your name? Claudio\n"
     ]
    },
    {
     "data": {
      "text/plain": [
       "'Hello, Claudio!'"
      ]
     },
     "execution_count": 2,
     "metadata": {},
     "output_type": "execute_result"
    }
   ],
   "source": [
    "# Create a function that ask the user his name and says Hello, John Doe\n",
    "def chat(question,answear):\n",
    "    msg = \"\"\n",
    "    while msg == \"\":\n",
    "          msg = input(question)\n",
    "    return str(answear) + str(msg) + \"!\"\n",
    "chat(\"Hi ! What is your name? \",\"Hello, \")"
   ]
  },
  {
   "cell_type": "markdown",
   "metadata": {},
   "source": [
    "**2.** Create a function called chat that ask the user what is his problem and will answer \"yes of course\""
   ]
  },
  {
   "cell_type": "code",
   "execution_count": 3,
   "metadata": {},
   "outputs": [
    {
     "name": "stdout",
     "output_type": "stream",
     "text": [
      "Hi ! What is your problem? \n",
      "Hi ! What is your problem? \n",
      "Hi ! What is your problem? problem\n"
     ]
    },
    {
     "data": {
      "text/plain": [
       "'yes of course'"
      ]
     },
     "execution_count": 3,
     "metadata": {},
     "output_type": "execute_result"
    }
   ],
   "source": [
    "# Create a function called chat that ask the user what is his problem and will answer \"yes of course\"\n",
    "def chat(question,answear):\n",
    "    msg = \"\"\n",
    "    while msg == \"\":\n",
    "          msg = input(question)\n",
    "    return str(answear)\n",
    "chat(\"Hi ! What is your problem? \",\"yes of course\")"
   ]
  },
  {
   "cell_type": "markdown",
   "metadata": {},
   "source": [
    "**3.** Create a function called chat that ask the user what is his problem and will answer randomly among 6 possible answers"
   ]
  },
  {
   "cell_type": "code",
   "execution_count": 5,
   "metadata": {},
   "outputs": [
    {
     "name": "stdout",
     "output_type": "stream",
     "text": [
      "Hi ! What is your problem? \n",
      "Hi ! What is your problem? \n",
      "Hi ! What is your problem? problem\n",
      "you kidding me?\n"
     ]
    }
   ],
   "source": [
    "# Create a function called chat that ask the user what is his problem and will answer randomly among 6 possible answers\n",
    "ANS = [\"perfect\",\"no way\",\"tha's awsome\",\"i can't believe that\",\"you kidding me?\"]\n",
    "import random\n",
    "\n",
    "def chat (question):\n",
    "    msg = \"\"\n",
    "    while msg == \"\":\n",
    "        msg = input(question)\n",
    "    print(ANS[random.randint(0,4)])\n",
    "chat(\"Hi ! What is your problem? \")"
   ]
  },
  {
   "cell_type": "markdown",
   "metadata": {},
   "source": [
    "**4.** Put all together and improve"
   ]
  },
  {
   "cell_type": "code",
   "execution_count": 6,
   "metadata": {},
   "outputs": [
    {
     "name": "stdout",
     "output_type": "stream",
     "text": [
      "What is you problem? \n",
      "What is you problem? \n",
      "What is you problem? ok\n",
      "no way\n"
     ]
    }
   ],
   "source": [
    "import random\n",
    "randomanswears = (\"you will be fine\",\"that's sad\",\"no way\")\n",
    "\n",
    "def chat():\n",
    "    problem = \"\"\n",
    "    while problem != \"ok\":\n",
    "        problem = input(\"What is you problem? \")\n",
    "    print(random.choice(randomanswears))\n",
    "chat()"
   ]
  }
 ],
 "metadata": {
  "kernelspec": {
   "display_name": "Python 3",
   "language": "python",
   "name": "python3"
  },
  "language_info": {
   "codemirror_mode": {
    "name": "ipython",
    "version": 3
   },
   "file_extension": ".py",
   "mimetype": "text/x-python",
   "name": "python",
   "nbconvert_exporter": "python",
   "pygments_lexer": "ipython3",
   "version": "3.7.4"
  }
 },
 "nbformat": 4,
 "nbformat_minor": 2
}
