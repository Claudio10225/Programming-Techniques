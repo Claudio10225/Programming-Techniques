{
 "cells": [
  {
   "cell_type": "markdown",
   "metadata": {},
   "source": [
    "# Lab 4\n",
    "\n",
    "**1)**  Create a list of volume of sales considering the following assumptions:\n",
    "* inicial valueSales =1000\n",
    "* anual growth rate = 10%\n",
    "* number of years = 6\n",
    "\n",
    "\n"
   ]
  },
  {
   "cell_type": "code",
   "execution_count": 80,
   "metadata": {
    "scrolled": true
   },
   "outputs": [
    {
     "name": "stdout",
     "output_type": "stream",
     "text": [
      "[1000, 1100.0, 1210.0, 1331.0, 1464.1000000000001, 1610.5100000000002]\n"
     ]
    }
   ],
   "source": [
    "Sales0 = 1000\n",
    "g = 0.1\n",
    "T = 6\n",
    "sales = [Sales0]\n",
    "\n",
    "for i in range(T-1):\n",
    "    sales.extend([Sales0*(1+g)])\n",
    "    Sales0 = Sales0*(1+g)\n",
    "print(sales)"
   ]
  },
  {
   "cell_type": "code",
   "execution_count": 109,
   "metadata": {},
   "outputs": [
    {
     "name": "stdout",
     "output_type": "stream",
     "text": [
      "[1000.0, 1100.0, 1210.0000000000002, 1331.0000000000005, 1464.1000000000004, 1610.5100000000004]\n"
     ]
    }
   ],
   "source": [
    "Sales0 = 1000\n",
    "g = 0.1\n",
    "T = 6\n",
    "sales = []\n",
    "\n",
    "for i in range(T):\n",
    "    sales.extend([Sales0*(1+g)**i])\n",
    "\n",
    "print(sales)"
   ]
  },
  {
   "cell_type": "markdown",
   "metadata": {},
   "source": [
    "**2)** Based on the previews list, create a list with costs knowing the profit margin:\n",
    "* margin =70%"
   ]
  },
  {
   "cell_type": "code",
   "execution_count": 81,
   "metadata": {},
   "outputs": [
    {
     "name": "stdout",
     "output_type": "stream",
     "text": [
      "[300.00000000000006, 330.00000000000006, 363.00000000000006, 399.30000000000007, 439.23000000000013, 483.15300000000013]\n"
     ]
    }
   ],
   "source": [
    "margin = 0.7\n",
    "i = 0\n",
    "costs = []\n",
    "\n",
    "for sale in sales:\n",
    "    costs.extend([(1-margin)*sales[i]])\n",
    "    i = i + 1\n",
    "print(costs)"
   ]
  },
  {
   "cell_type": "code",
   "execution_count": 111,
   "metadata": {},
   "outputs": [
    {
     "name": "stdout",
     "output_type": "stream",
     "text": [
      "[300.00000000000006, 330.00000000000006, 363.0000000000001, 399.3000000000002, 439.2300000000002, 483.1530000000002]\n"
     ]
    }
   ],
   "source": [
    "margin = 0.7\n",
    "costs = []\n",
    "\n",
    "for i in range(T):\n",
    "    costs.extend([(1-margin)*sales[i]])\n",
    "    \n",
    "print(costs)"
   ]
  },
  {
   "cell_type": "markdown",
   "metadata": {},
   "source": [
    "**3)** Create a list with the profit based on the last 2 exercises (profit = sales - cost)"
   ]
  },
  {
   "cell_type": "code",
   "execution_count": 82,
   "metadata": {},
   "outputs": [
    {
     "name": "stdout",
     "output_type": "stream",
     "text": [
      "[700.0, 770.0, 847.0, 931.6999999999999, 1024.87, 1127.357]\n"
     ]
    }
   ],
   "source": [
    "profit = []\n",
    "x = 0\n",
    "\n",
    "for sale in sales:\n",
    "    profit.extend([sales[x] - costs[x]])\n",
    "    x = x + 1\n",
    "print(profit)"
   ]
  },
  {
   "cell_type": "code",
   "execution_count": 112,
   "metadata": {},
   "outputs": [
    {
     "name": "stdout",
     "output_type": "stream",
     "text": [
      "[700.0, 770.0, 847.0000000000001, 931.7000000000003, 1024.8700000000001, 1127.3570000000002]\n"
     ]
    }
   ],
   "source": [
    "profit = []\n",
    "\n",
    "for i in range(T):\n",
    "    profit.extend([sales[i] - costs[i]])\n",
    "    \n",
    "print(profit)"
   ]
  },
  {
   "cell_type": "markdown",
   "metadata": {},
   "source": [
    "**4)** Calculete a newProfit suposing 500 of fixed costs"
   ]
  },
  {
   "cell_type": "code",
   "execution_count": 84,
   "metadata": {},
   "outputs": [
    {
     "name": "stdout",
     "output_type": "stream",
     "text": [
      "[500, 600.0, 710.0, 831.0, 964.1000000000001, 1110.5100000000002]\n"
     ]
    }
   ],
   "source": [
    "newProfit = []\n",
    "x = 0\n",
    "\n",
    "for sale in sales:\n",
    "    newProfit.extend([sales[x] - 500])\n",
    "    x = x + 1\n",
    "print(newProfit)"
   ]
  },
  {
   "cell_type": "code",
   "execution_count": 113,
   "metadata": {},
   "outputs": [
    {
     "name": "stdout",
     "output_type": "stream",
     "text": [
      "[500.0, 600.0, 710.0000000000002, 831.0000000000005, 964.1000000000004, 1110.5100000000004]\n"
     ]
    }
   ],
   "source": [
    "newProfit = []\n",
    "\n",
    "for i in range(T):\n",
    "    newProfit.extend([sales[i] - 500])\n",
    "    \n",
    "print(newProfit)"
   ]
  },
  {
   "cell_type": "markdown",
   "metadata": {},
   "source": [
    "**5)** Create a <b>newSales</b> list with random generated values  between 200 and 2000. Corresponding to volume of sales during a certainn numberOfYears.\n",
    "\n",
    "some ints:\n",
    "* Import module, writing <b>import random</b> \n",
    "* use the method <b>random.randint(a, b)</b>. This method is used to generate values between a and b  ( Return a random integer N such that a <= N <= b.):\n",
    "\n",
    "\n",
    "   \n",
    "\n"
   ]
  },
  {
   "cell_type": "code",
   "execution_count": 96,
   "metadata": {},
   "outputs": [
    {
     "name": "stdout",
     "output_type": "stream",
     "text": [
      "[1019, 301, 1579, 450, 257, 1071]\n"
     ]
    }
   ],
   "source": [
    "import random\n",
    "\n",
    "newSales = []\n",
    "\n",
    "for sale in sales:\n",
    "    newSales.extend([random.randint(200, 2000)])\n",
    "    \n",
    "print(newSales)"
   ]
  },
  {
   "cell_type": "code",
   "execution_count": 119,
   "metadata": {},
   "outputs": [
    {
     "name": "stdout",
     "output_type": "stream",
     "text": [
      "[1630, 1802, 767, 252, 652, 1560]\n"
     ]
    }
   ],
   "source": [
    "import random\n",
    "\n",
    "newSales = []\n",
    "\n",
    "for i in range(T):\n",
    "    newSales.extend([random.randint(200, 2000)])\n",
    "    \n",
    "print(newSales)"
   ]
  },
  {
   "cell_type": "markdown",
   "metadata": {},
   "source": [
    "**6)** Create a new list with profits (newProfit). With margin 70% with fixed costs stated previously."
   ]
  },
  {
   "cell_type": "code",
   "execution_count": 120,
   "metadata": {},
   "outputs": [
    {
     "name": "stdout",
     "output_type": "stream",
     "text": [
      "[1330.0, 1472.0, 403.9999999999999, -147.30000000000018, 212.7699999999998, 1076.8469999999998]\n"
     ]
    }
   ],
   "source": [
    "newProfit = []\n",
    "z = 0\n",
    "\n",
    "for sale in sales:\n",
    "    newProfit.extend([newSales[z]-costs[z]])\n",
    "    z = z + 1\n",
    "print(newProfit)"
   ]
  },
  {
   "cell_type": "code",
   "execution_count": 121,
   "metadata": {},
   "outputs": [
    {
     "name": "stdout",
     "output_type": "stream",
     "text": [
      "[1330.0, 1472.0, 403.9999999999999, -147.30000000000018, 212.7699999999998, 1076.8469999999998]\n"
     ]
    }
   ],
   "source": [
    "newProfit = []\n",
    "\n",
    "for i in range(T):\n",
    "    newProfit.extend([newSales[i]-costs[i]])\n",
    "   \n",
    "print(newProfit)"
   ]
  },
  {
   "cell_type": "markdown",
   "metadata": {},
   "source": [
    "**7)** What is the percentage of years having profits in the total?"
   ]
  },
  {
   "cell_type": "code",
   "execution_count": 122,
   "metadata": {},
   "outputs": [
    {
     "name": "stdout",
     "output_type": "stream",
     "text": [
      "0.8333333333333334\n"
     ]
    }
   ],
   "source": [
    "a = 0\n",
    "b = 0\n",
    "\n",
    "for sale in sales:\n",
    "    if newProfit[a] > 0:\n",
    "        b = b + 1\n",
    "    a = a + 1\n",
    "print(b/len(newProfit))"
   ]
  },
  {
   "cell_type": "code",
   "execution_count": 123,
   "metadata": {},
   "outputs": [
    {
     "name": "stdout",
     "output_type": "stream",
     "text": [
      "0.8333333333333334\n"
     ]
    }
   ],
   "source": [
    "a = 0\n",
    "\n",
    "for i in range(T):\n",
    "    if newProfit[i] > 0:\n",
    "        a = a + 1\n",
    "   \n",
    "print(a/len(newProfit))"
   ]
  },
  {
   "cell_type": "markdown",
   "metadata": {},
   "source": [
    "**8)** Plot the sales and the newSales (generated randomly) throughout the years."
   ]
  },
  {
   "cell_type": "code",
   "execution_count": 124,
   "metadata": {},
   "outputs": [
    {
     "data": {
      "image/png": "[encoded data removed]",
      "text/plain": [
       "<Figure size 432x288 with 1 Axes>"
      ]
     },
     "metadata": {
      "needs_background": "light"
     },
     "output_type": "display_data"
    }
   ],
   "source": [
    "import matplotlib.pyplot as plt\n",
    "plt.plot(sales)\n",
    "plt.plot(newSales)\n",
    "plt.ylabel('sales')\n",
    "plt.xlabel('years')\n",
    "plt.show()"
   ]
  }
 ],
 "metadata": {
  "kernelspec": {
   "display_name": "Python 3",
   "language": "python",
   "name": "python3"
  },
  "language_info": {
   "codemirror_mode": {
    "name": "ipython",
    "version": 3
   },
   "file_extension": ".py",
   "mimetype": "text/x-python",
   "name": "python",
   "nbconvert_exporter": "python",
   "pygments_lexer": "ipython3",
   "version": "3.7.4"
  }
 },
 "nbformat": 4,
 "nbformat_minor": 2
}
