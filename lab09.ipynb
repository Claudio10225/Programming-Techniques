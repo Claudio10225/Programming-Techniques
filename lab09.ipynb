{
 "cells": [
  {
   "cell_type": "markdown",
   "metadata": {},
   "source": [
    "# lab 9\n",
    "\n",
    "Suppose you have the follwoing payoff matriz of a prisoner's dilemna\n",
    "$$\\begin{bmatrix} (2,2) & (0,3) \\\\ (3,0) & (1,1)  \\end{bmatrix}$$\n",
    "\n",
    "Player 0 may play 0 or 1 and player 1 may play 0 or 1. 0 is cooperate (our peace), 1 is not cooperate (war).\n"
   ]
  },
  {
   "cell_type": "markdown",
   "metadata": {},
   "source": [
    "**1.** Create a function that receives results from each one of the player and gives as results a tuple with the results."
   ]
  },
  {
   "cell_type": "code",
   "execution_count": 3,
   "metadata": {},
   "outputs": [
    {
     "name": "stdout",
     "output_type": "stream",
     "text": [
      "You are the player 1, type 0 for cooperate and 1 for not cooperate 0\n",
      "You are the player 2, type 0 for cooperate and 1 for not cooperte 1\n"
     ]
    },
    {
     "data": {
      "text/plain": [
       "(0, 3)"
      ]
     },
     "execution_count": 3,
     "metadata": {},
     "output_type": "execute_result"
    }
   ],
   "source": [
    "def payoff():\n",
    "    player1=input(\"You are the player 1, type 0 for cooperate and 1 for not cooperate \")\n",
    "    player2=input(\"You are the player 2, type 0 for cooperate and 1 for not cooperte \")\n",
    "    if int(player1)==0 and int(player2)==0:\n",
    "        payoff=(2,2)\n",
    "    elif int(player1)==1 and int(player2)==0:\n",
    "        payoff=(3,0)\n",
    "    elif int(player1)==0 and int(player2)==1:\n",
    "        payoff=(0,3)\n",
    "    else:\n",
    "        payoff=(1,1)\n",
    "    return payoff\n",
    "payoff()"
   ]
  },
  {
   "cell_type": "markdown",
   "metadata": {},
   "source": [
    "**2.** Player 0 is the user that chooses between 0 a 1. Player 1 is a computer. Result is randomly generated.  "
   ]
  },
  {
   "cell_type": "code",
   "execution_count": 4,
   "metadata": {},
   "outputs": [
    {
     "name": "stdout",
     "output_type": "stream",
     "text": [
      "type 0 for cooperate and 1 for not cooperte0\n"
     ]
    },
    {
     "data": {
      "text/plain": [
       "(2, 2)"
      ]
     },
     "execution_count": 4,
     "metadata": {},
     "output_type": "execute_result"
    }
   ],
   "source": [
    "import random as rd \n",
    "\n",
    "\n",
    "\n",
    "def payoff():\n",
    "    \n",
    "    player2=input(\"type 0 for cooperate and 1 for not cooperte\")\n",
    "    if int(rd.randint(0,1))==0 and int(player2)==0:\n",
    "        payoff=(2,2)\n",
    "    elif int(rd.randint(0,1))==1 and int(player2)==0:\n",
    "        payoff=(3,0)\n",
    "    elif int(rd.randint(0,1))==0 and int(player2)==1:\n",
    "        payoff=(0,3)\n",
    "    else:\n",
    "        payoff=(1,1)\n",
    "    return payoff\n",
    "payoff()"
   ]
  },
  {
   "cell_type": "markdown",
   "metadata": {},
   "source": [
    "**3.** Calculate the accumulated value resulting from an iterative game (10 iterations)"
   ]
  },
  {
   "cell_type": "code",
   "execution_count": 71,
   "metadata": {},
   "outputs": [
    {
     "name": "stdout",
     "output_type": "stream",
     "text": [
      "[3, 0]\n",
      "[3, 0]\n",
      "[1, 1]\n",
      "[1, 1]\n",
      "[2, 2]\n",
      "[1, 1]\n",
      "[3, 0]\n",
      "[3, 0]\n",
      "[1, 1]\n",
      "[0, 3]\n",
      "[0, 0, 3, 0, 3, 0, 1, 1, 1, 1, 2, 2, 1, 1, 3, 0, 3, 0, 1, 1, 0, 3]\n",
      "[18, 9]\n"
     ]
    }
   ],
   "source": [
    "import random as rd \n",
    "total=[0, 0]\n",
    "def payoff():\n",
    "    for i in range(0,10):     \n",
    "        if int(rd.randint(0,1))==0 and int(rd.randint(0,1))==0:\n",
    "            payoff=[2,2]\n",
    "        elif int(rd.randint(0,1))==1 and int(rd.randint(0,1))==0:\n",
    "            payoff=[3,0]\n",
    "        elif int(rd.randint(0,1))==0 and int(rd.randint(0,1))==1:\n",
    "            payoff=[0,3]\n",
    "        else:\n",
    "            payoff=[1,1]\n",
    "        print(payoff)\n",
    "        total.extend(payoff)\n",
    "\n",
    "payoff()\n",
    "print(total)\n",
    "x=0\n",
    "y=0\n",
    "for i in range(22):\n",
    "    if i%2!=0:\n",
    "        y=y+int(total[i])\n",
    "    else:\n",
    "        x=x+int(total[i])\n",
    "total = [x, y]\n",
    "print(total)"
   ]
  }
 ],
 "metadata": {
  "kernelspec": {
   "display_name": "Python 3",
   "language": "python",
   "name": "python3"
  },
  "language_info": {
   "codemirror_mode": {
    "name": "ipython",
    "version": 3
   },
   "file_extension": ".py",
   "mimetype": "text/x-python",
   "name": "python",
   "nbconvert_exporter": "python",
   "pygments_lexer": "ipython3",
   "version": "3.7.4"
  }
 },
 "nbformat": 4,
 "nbformat_minor": 2
}
